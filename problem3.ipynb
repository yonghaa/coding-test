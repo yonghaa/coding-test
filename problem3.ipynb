{
 "cells": [
  {
   "cell_type": "code",
   "execution_count": 1,
   "metadata": {},
   "outputs": [],
   "source": [
    "# 3.\n",
    "# 1 ~ 100 중에 7의 배수의 개수를 출력하세요.\n",
    "# psudocode\n",
    "# 1부터 100까지 반복\n",
    "# \t숫자를 7의 배수인지 판단하는 행동을.\n",
    "# \tif 7의 배수이니?\n",
    "# \t\t개수를 늘려줄게."
   ]
  },
  {
   "cell_type": "code",
   "execution_count": 2,
   "metadata": {},
   "outputs": [
    {
     "name": "stdout",
     "output_type": "stream",
     "text": [
      "14\n"
     ]
    }
   ],
   "source": [
    "# 1. for를 사용한 직관적인 방법.\n",
    "count = 0\n",
    "for num in range(1, 100 + 1):\n",
    "    if num % 7 == 0: #7의 배수이면\n",
    "        count +=1\n",
    "print(count)\n"
   ]
  },
  {
   "cell_type": "code",
   "execution_count": 3,
   "metadata": {},
   "outputs": [
    {
     "name": "stdout",
     "output_type": "stream",
     "text": [
      "14\n"
     ]
    }
   ],
   "source": [
    "# 2. while을 사용한 7씩 늘려주는 방법.\n",
    "# 7 step씩 더해줘서 위의 식보다 약 7배 빠르다.\n",
    "\n",
    "num = 0\n",
    "count = 0 # 선언, 할당(초기값)\n",
    "while True:\n",
    "    num += 7\n",
    "    if num > 100:\n",
    "        break\n",
    "    count +=1\n",
    "print(count)"
   ]
  },
  {
   "cell_type": "code",
   "execution_count": 4,
   "metadata": {},
   "outputs": [
    {
     "name": "stdout",
     "output_type": "stream",
     "text": [
      "14\n"
     ]
    }
   ],
   "source": [
    "# 3. range의 step을 활용한 방법.\n",
    "count = 0 \n",
    "for num in range(7, 101, 7):\n",
    "    count += 1\n",
    "print(count)"
   ]
  },
  {
   "cell_type": "code",
   "execution_count": 5,
   "metadata": {},
   "outputs": [
    {
     "name": "stdout",
     "output_type": "stream",
     "text": [
      "14\n"
     ]
    }
   ],
   "source": [
    "# 4. 배수의 개수 라는 개념을 다시 생각한 방법\n",
    "print(len(range(7, 101, 7)))"
   ]
  },
  {
   "cell_type": "code",
   "execution_count": 8,
   "metadata": {},
   "outputs": [
    {
     "name": "stdout",
     "output_type": "stream",
     "text": [
      "14\n"
     ]
    }
   ],
   "source": [
    "# 5. 배수의 개수가 뭐지?\n",
    "print(100 // 7)"
   ]
  },
  {
   "cell_type": "code",
   "execution_count": null,
   "metadata": {},
   "outputs": [],
   "source": []
  }
 ],
 "metadata": {
  "kernelspec": {
   "display_name": "Python 3",
   "language": "python",
   "name": "python3"
  },
  "language_info": {
   "codemirror_mode": {
    "name": "ipython",
    "version": 3
   },
   "file_extension": ".py",
   "mimetype": "text/x-python",
   "name": "python",
   "nbconvert_exporter": "python",
   "pygments_lexer": "ipython3",
   "version": "3.9.13"
  }
 },
 "nbformat": 4,
 "nbformat_minor": 2
}
