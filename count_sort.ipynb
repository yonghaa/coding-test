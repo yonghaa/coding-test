{
 "cells": [
  {
   "cell_type": "code",
   "execution_count": 1,
   "metadata": {},
   "outputs": [],
   "source": [
    "# counting sort\n",
    "# 정수밖에 정렬을 하지 못합니다.\n",
    "# 대신, 엄청 빠릅니다. 0(n+k), n은 개수, k는 가장 큰 정수\n",
    "# 불안정해요.\n",
    "# 단, 안정화 시킬수는 있습니다.\n",
    "\n",
    "lst = [1, 3, 3, 2, 2, 1, 3, 4, 1]"
   ]
  },
  {
   "cell_type": "code",
   "execution_count": 5,
   "metadata": {},
   "outputs": [
    {
     "name": "stdout",
     "output_type": "stream",
     "text": [
      "[0, 3, 2, 3, 1]\n"
     ]
    }
   ],
   "source": [
    "counting_lst = [0] * (max(lst) + 1) # 0번째 index는 무시\n",
    "# 번째 라는 개념과 숫자를 맞추기 위해서.\n",
    "\n",
    "# 개수를 셉니다.\n",
    "for num in lst:\n",
    "    counting_lst[num] += 1\n",
    "\n",
    "print(counting_lst)"
   ]
  },
  {
   "cell_type": "code",
   "execution_count": 6,
   "metadata": {},
   "outputs": [
    {
     "name": "stdout",
     "output_type": "stream",
     "text": [
      "[1, 1, 1, 2, 2, 3, 3, 3, 4]\n"
     ]
    }
   ],
   "source": [
    "sorted_lst = []\n",
    "for index in range(len(counting_lst)):\n",
    "    value = counting_lst[index]\n",
    "    for _ in range(value):\n",
    "        sorted_lst.append(index)\n",
    "\n",
    "print(sorted_lst)"
   ]
  },
  {
   "cell_type": "code",
   "execution_count": null,
   "metadata": {},
   "outputs": [],
   "source": []
  }
 ],
 "metadata": {
  "kernelspec": {
   "display_name": "Python 3",
   "language": "python",
   "name": "python3"
  },
  "language_info": {
   "codemirror_mode": {
    "name": "ipython",
    "version": 3
   },
   "file_extension": ".py",
   "mimetype": "text/x-python",
   "name": "python",
   "nbconvert_exporter": "python",
   "pygments_lexer": "ipython3",
   "version": "3.9.13"
  }
 },
 "nbformat": 4,
 "nbformat_minor": 2
}
