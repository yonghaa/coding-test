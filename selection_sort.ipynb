{
 "cells": [
  {
   "cell_type": "code",
   "execution_count": 1,
   "metadata": {},
   "outputs": [],
   "source": [
    "# 1.가장 큰 / 작은 수가 들어가야 할 위치의 index를 잡는다.\n",
    "# 2. 가장 큰 / 작은 수의 인덱스를 찾는다\n",
    "# 3. 수가 들어갈 위치와 교체한다."
   ]
  },
  {
   "cell_type": "code",
   "execution_count": 2,
   "metadata": {},
   "outputs": [],
   "source": [
    "lst = [10, 8, 7, 6, 4, 3,9]\n"
   ]
  },
  {
   "cell_type": "code",
   "execution_count": 4,
   "metadata": {},
   "outputs": [
    {
     "name": "stdout",
     "output_type": "stream",
     "text": [
      "[3, 8, 7, 6, 4, 10, 9]\n",
      "[3, 4, 7, 6, 8, 10, 9]\n",
      "[3, 4, 6, 7, 8, 10, 9]\n",
      "[3, 4, 6, 7, 8, 10, 9]\n",
      "[3, 4, 6, 7, 8, 10, 9]\n",
      "[3, 4, 6, 7, 8, 9, 10]\n",
      "[3, 4, 6, 7, 8, 9, 10]\n"
     ]
    }
   ],
   "source": [
    "for index in range(len(lst)):\n",
    "    min_index = index # 가장 작은 숫자가 들어갈 index\n",
    "\n",
    "    for i in range(index, len(lst)):\n",
    "\n",
    "        if lst[i] < lst[min_index]:\n",
    "            min_index = i\n",
    "    lst[min_index], lst[index] = lst[index], lst[min_index]\n",
    "    print(lst)"
   ]
  },
  {
   "cell_type": "code",
   "execution_count": null,
   "metadata": {},
   "outputs": [],
   "source": []
  }
 ],
 "metadata": {
  "kernelspec": {
   "display_name": "Python 3",
   "language": "python",
   "name": "python3"
  },
  "language_info": {
   "codemirror_mode": {
    "name": "ipython",
    "version": 3
   },
   "file_extension": ".py",
   "mimetype": "text/x-python",
   "name": "python",
   "nbconvert_exporter": "python",
   "pygments_lexer": "ipython3",
   "version": "3.9.13"
  }
 },
 "nbformat": 4,
 "nbformat_minor": 2
}
