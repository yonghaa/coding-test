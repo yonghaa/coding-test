{
 "cells": [
  {
   "cell_type": "code",
   "execution_count": 1,
   "metadata": {},
   "outputs": [],
   "source": [
    "# n, m을 입력받아서, 무언가를 해라.\n",
    "# a = input()\n",
    "# print(a)"
   ]
  },
  {
   "cell_type": "code",
   "execution_count": 2,
   "metadata": {},
   "outputs": [
    {
     "name": "stdout",
     "output_type": "stream",
     "text": [
      "3\n"
     ]
    }
   ],
   "source": [
    "T = int(input())\n",
    "print(T)"
   ]
  },
  {
   "cell_type": "code",
   "execution_count": 22,
   "metadata": {},
   "outputs": [
    {
     "name": "stdout",
     "output_type": "stream",
     "text": [
      "7 100\n",
      "['7', '100']\n",
      "[7, 100]\n",
      "7 100\n",
      "9 635\n",
      "['9', '635']\n",
      "[9, 635]\n",
      "9 635\n",
      "6 2\n",
      "['6', '2']\n",
      "[6, 2]\n",
      "6 2\n"
     ]
    }
   ],
   "source": [
    "for _ in range(T):\n",
    "    input_value = input() # str 으로써 입력을 받는다.\n",
    "    print(input_value)\n",
    "\n",
    "    input_value = input_value.split() # 리스트의 형태로 바꿔준다.\n",
    "    print(input_value)  ## 왜 입력창 3번 입력하는게 뜨는지\n",
    "\n",
    "    input_value = list(map(int, input_value)) # 리스트의 원소들을 각각 정수로 바꿔준다\n",
    "    print(input_value)\n",
    "\n",
    "    # input_value = list(map(int,input().split))\n",
    "    a, b = input_value\n",
    "    print(a, b)  ## 어떤오류인지?\n",
    "    # new_lst = []\n",
    "    # for i in x:\n",
    "    #     new_lst.append(int(i))\n",
    "    # new_lst = [ int(char) for char in x]\n"
   ]
  },
  {
   "cell_type": "code",
   "execution_count": null,
   "metadata": {},
   "outputs": [],
   "source": [
    "\n"
   ]
  },
  {
   "cell_type": "code",
   "execution_count": null,
   "metadata": {},
   "outputs": [],
   "source": []
  }
 ],
 "metadata": {
  "kernelspec": {
   "display_name": "Python 3",
   "language": "python",
   "name": "python3"
  },
  "language_info": {
   "codemirror_mode": {
    "name": "ipython",
    "version": 3
   },
   "file_extension": ".py",
   "mimetype": "text/x-python",
   "name": "python",
   "nbconvert_exporter": "python",
   "pygments_lexer": "ipython3",
   "version": "3.9.13"
  }
 },
 "nbformat": 4,
 "nbformat_minor": 2
}
