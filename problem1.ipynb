{
 "cells": [
  {
   "cell_type": "code",
   "execution_count": null,
   "metadata": {},
   "outputs": [],
   "source": [
    "# 1.\n",
    "# names = ['jun', 'alex', 'ken'] 일 때,\n",
    "#\n",
    "# 0번째 손님 : jun\n",
    "# 1번째 손님 : alex\n",
    "# 2번째 손님 : ken\n",
    "# 을 출력하시오. 단, for, while을 활용하여 2번 작성하시오.\n"
   ]
  },
  {
   "cell_type": "code",
   "execution_count": 2,
   "metadata": {},
   "outputs": [
    {
     "name": "stdout",
     "output_type": "stream",
     "text": [
      "0번째 손님 : jun\n",
      "1번째 손님 : alex\n",
      "2번째 손님 : ken\n",
      "0번째 손님 : jun\n",
      "1번째 손님 : alex\n",
      "2번째 손님 : ken\n"
     ]
    }
   ],
   "source": [
    "#for\n",
    "names = ['jun', 'alex', 'ken']\n",
    "\n",
    "for index in range(len(names)):\n",
    "    name = names[index]\n",
    "    # index, name 두가지 변수,\n",
    "    print(f'{index}번째 손님 : {name}')\n",
    "    #       .format - 예전 버전.\n",
    "\n",
    "for index, name in enumerate(names):\n",
    "    print(f'{index}번째 손님 : {name}')\n"
   ]
  },
  {
   "cell_type": "code",
   "execution_count": 3,
   "metadata": {},
   "outputs": [
    {
     "name": "stdout",
     "output_type": "stream",
     "text": [
      "0번째 손님 : jun\n",
      "1번째 손님 : alex\n",
      "2번째 손님 : ken\n"
     ]
    }
   ],
   "source": [
    "# while\n",
    "names = ['jun', 'alex', 'ken']\n",
    "\n",
    "index = 0\n",
    "while True:\n",
    "\n",
    "    name = names[index]\n",
    "    print(f'{index}번째 손님 : {name}')\n",
    "\n",
    "    index += 1\n",
    "    if index == len(names):\n",
    "        break\n",
    "    "
   ]
  },
  {
   "cell_type": "code",
   "execution_count": null,
   "metadata": {},
   "outputs": [],
   "source": []
  }
 ],
 "metadata": {
  "kernelspec": {
   "display_name": "Python 3",
   "language": "python",
   "name": "python3"
  },
  "language_info": {
   "codemirror_mode": {
    "name": "ipython",
    "version": 3
   },
   "file_extension": ".py",
   "mimetype": "text/x-python",
   "name": "python",
   "nbconvert_exporter": "python",
   "pygments_lexer": "ipython3",
   "version": "3.9.13"
  }
 },
 "nbformat": 4,
 "nbformat_minor": 2
}
