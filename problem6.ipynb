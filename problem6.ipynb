{
 "cells": [
  {
   "cell_type": "code",
   "execution_count": 1,
   "metadata": {},
   "outputs": [],
   "source": [
    "# 6.\n",
    "# n = 17일 때, n이 소수인지 판단하시오. (추가로, n을 입력받아 같은 과정을 반복하시오.)\n",
    "\n",
    "# n은 소수인가?\n",
    "\n",
    "# 약수가 1, n뿐인 수가 소수다.\n",
    "\n",
    "# 2 ~ n-1 까지의 수로 나눴을 때 나머지가 0이 아니라면\n",
    "# 소수다.\n",
    "\n",
    "# 2 ~ n-1 까지의 수로 나눴을 때 나머지가 0이 라면\n",
    "# 소수가 아니다."
   ]
  },
  {
   "cell_type": "code",
   "execution_count": 5,
   "metadata": {},
   "outputs": [
    {
     "name": "stdout",
     "output_type": "stream",
     "text": [
      "True\n"
     ]
    }
   ],
   "source": [
    "n = 17\n",
    "is_prime = True\n",
    "for num in range(2, n):\n",
    "    if n % num == 0:\n",
    "        is_prime = False\n",
    "print(is_prime)"
   ]
  },
  {
   "cell_type": "code",
   "execution_count": null,
   "metadata": {},
   "outputs": [],
   "source": []
  }
 ],
 "metadata": {
  "kernelspec": {
   "display_name": "Python 3",
   "language": "python",
   "name": "python3"
  },
  "language_info": {
   "codemirror_mode": {
    "name": "ipython",
    "version": 3
   },
   "file_extension": ".py",
   "mimetype": "text/x-python",
   "name": "python",
   "nbconvert_exporter": "python",
   "pygments_lexer": "ipython3",
   "version": "3.9.13"
  }
 },
 "nbformat": 4,
 "nbformat_minor": 2
}
