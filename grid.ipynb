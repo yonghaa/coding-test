{
 "cells": [
  {
   "cell_type": "code",
   "execution_count": 1,
   "metadata": {},
   "outputs": [],
   "source": [
    "from pprint import pprint\n",
    "# import pprint\n",
    "# pprint.pprint()"
   ]
  },
  {
   "cell_type": "code",
   "execution_count": 13,
   "metadata": {},
   "outputs": [],
   "source": [
    "n =5"
   ]
  },
  {
   "cell_type": "code",
   "execution_count": 3,
   "metadata": {},
   "outputs": [],
   "source": [
    "# 잘못된 방식\n",
    "# grid = [[0] * n]*n\n",
    "# pprint(grid)\n",
    "# grid[0][0] = 100\n",
    "# print()\n",
    "# pprint(grid)"
   ]
  },
  {
   "cell_type": "code",
   "execution_count": 26,
   "metadata": {},
   "outputs": [
    {
     "name": "stdout",
     "output_type": "stream",
     "text": [
      "[[0, 0, 0, 0, 0],\n",
      " [0, 0, 0, 0, 0],\n",
      " [0, 0, 0, 0, 0],\n",
      " [0, 0, 0, 0, 0],\n",
      " [0, 0, 0, 0, 0]]\n",
      "\n",
      "[[100, 0, 0, 0, 0],\n",
      " [0, 0, 0, 0, 0],\n",
      " [0, 0, 0, 0, 0],\n",
      " [0, 0, 0, 0, 0],\n",
      " [0, 0, 0, 0, 0]]\n"
     ]
    }
   ],
   "source": [
    "# 잘못된 코드. 위와 같은.\n",
    "grid = []\n",
    "small_grid = [0]*n\n",
    "for _ in range(n):\n",
    "    grid.append(small_grid)\n",
    "\n",
    "grid =[]\n",
    "for _ in range(n):\n",
    "    # small_grid = [0]*n\n",
    "    # grid.append(small_grid)\n",
    "    grid.append([0]*n)\n",
    "\n",
    "pprint(grid)\n",
    "grid[0][0] = 100\n",
    "print()\n",
    "pprint(grid)"
   ]
  },
  {
   "cell_type": "code",
   "execution_count": 25,
   "metadata": {},
   "outputs": [
    {
     "name": "stdout",
     "output_type": "stream",
     "text": [
      "[[0, 0, 0, 0, 0, 0],\n",
      " [0, 0, 0, 0, 0, 0],\n",
      " [0, 0, 0, 0, 0, 0],\n",
      " [0, 0, 0, 0, 0, 0],\n",
      " [0, 0, 0, 0, 0, 0],\n",
      " [0, 0, 0, 0, 0, 0]]\n"
     ]
    }
   ],
   "source": [
    "# 최종형태\n",
    "grid = [[0]*n for _ in range(n)]\n",
    "grid = [[0]*6 for _ in range(6)]\n",
    "pprint(grid)"
   ]
  },
  {
   "cell_type": "code",
   "execution_count": 24,
   "metadata": {},
   "outputs": [
    {
     "name": "stdout",
     "output_type": "stream",
     "text": [
      "[[0, 0, 0, 0, 0, 0], [0, 0, 0, 0, 0, 0], [0, 0, 0, 0, 0, 0], [0, 0, 0, 0, 0, 0], [0, 0, 0, 0, 0, 0], [0, 0, 0, 0, 0, 0]]\n"
     ]
    }
   ],
   "source": [
    "print(grid)"
   ]
  },
  {
   "cell_type": "code",
   "execution_count": null,
   "metadata": {},
   "outputs": [],
   "source": []
  }
 ],
 "metadata": {
  "kernelspec": {
   "display_name": "Python 3",
   "language": "python",
   "name": "python3"
  },
  "language_info": {
   "codemirror_mode": {
    "name": "ipython",
    "version": 3
   },
   "file_extension": ".py",
   "mimetype": "text/x-python",
   "name": "python",
   "nbconvert_exporter": "python",
   "pygments_lexer": "ipython3",
   "version": "3.9.13"
  }
 },
 "nbformat": 4,
 "nbformat_minor": 2
}
