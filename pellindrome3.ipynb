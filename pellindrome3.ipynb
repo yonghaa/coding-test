{
 "cells": [
  {
   "cell_type": "code",
   "execution_count": 2,
   "metadata": {},
   "outputs": [],
   "source": [
    "s = '123421'\n",
    "is_pellindrome = True\n",
    "start_index = 0\n",
    "end_index = len(s) -1\n",
    "# end_index = -1 로 해도 상관 없지만, 멈추는 조건이 달라질 예정\n",
    "while True:\n",
    "    # s, e 비교를 할꺼야\n",
    "    # 만약 두개가 달라?\n",
    "    #     펠린드롬이 아니야\n",
    "    if s[start_index] != s[end_index]:\n",
    "        is_pellindrome = False\n",
    "        break\n",
    "\n",
    "    # s는 1씩 커지고, e는 1씩 작아져,\n",
    "    start_index += 1\n",
    "    end_index -= 1\n",
    "\n",
    "    # s가 e보다 커지면 멈추면 될 것 같아.\n",
    "    if start_index >= end_index:\n",
    "        break\n"
   ]
  },
  {
   "cell_type": "code",
   "execution_count": null,
   "metadata": {},
   "outputs": [],
   "source": []
  }
 ],
 "metadata": {
  "kernelspec": {
   "display_name": "Python 3",
   "language": "python",
   "name": "python3"
  },
  "language_info": {
   "codemirror_mode": {
    "name": "ipython",
    "version": 3
   },
   "file_extension": ".py",
   "mimetype": "text/x-python",
   "name": "python",
   "nbconvert_exporter": "python",
   "pygments_lexer": "ipython3",
   "version": "3.9.13"
  }
 },
 "nbformat": 4,
 "nbformat_minor": 2
}
