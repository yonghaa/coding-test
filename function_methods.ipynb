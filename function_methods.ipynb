{
 "cells": [
  {
   "cell_type": "code",
   "execution_count": 1,
   "metadata": {},
   "outputs": [],
   "source": [
    "lst = [2, 3, 4, 5]"
   ]
  },
  {
   "cell_type": "code",
   "execution_count": 6,
   "metadata": {},
   "outputs": [],
   "source": [
    "def my_len(lst):\n",
    "    count = 0\n",
    "    for _ in lst:\n",
    "        count = count + 1\n",
    "    return count\n"
   ]
  },
  {
   "cell_type": "code",
   "execution_count": 7,
   "metadata": {},
   "outputs": [],
   "source": [
    "def my_sum(lst):\n",
    "    total = 0\n",
    "    for num in lst:\n",
    "        total = total + num\n",
    "    return total"
   ]
  },
  {
   "cell_type": "code",
   "execution_count": 8,
   "metadata": {},
   "outputs": [],
   "source": [
    "def my_max(lst):\n",
    "    # max_num = float('-inf')\n",
    "    max_num = lst[0]\n",
    "\n",
    "    for num in lst:\n",
    "        if num > max_num:\n",
    "            max_num = num\n",
    "    return max_num"
   ]
  },
  {
   "cell_type": "code",
   "execution_count": 9,
   "metadata": {},
   "outputs": [],
   "source": [
    "def my_min(lst):\n",
    "    min_num = lst[0]\n",
    "    for num in lst:\n",
    "        if num < min_num:\n",
    "            min_num = num\n",
    "    return min_num"
   ]
  },
  {
   "cell_type": "code",
   "execution_count": 10,
   "metadata": {},
   "outputs": [
    {
     "name": "stdout",
     "output_type": "stream",
     "text": [
      "[5, 4, 3, 2]\n"
     ]
    }
   ],
   "source": [
    "def my_reversed(lst):\n",
    "    reversed_lst = []\n",
    "    for index in range(my_len(lst) -1, -1, -1):\n",
    "        num = lst[index]\n",
    "        reversed_lst.append(num)\n",
    "        # reversed_lst += [num]\n",
    "    return reversed_lst\n",
    "print(my_reversed(lst))"
   ]
  },
  {
   "cell_type": "code",
   "execution_count": 11,
   "metadata": {},
   "outputs": [
    {
     "name": "stdout",
     "output_type": "stream",
     "text": [
      "[5, 4, 3, 2]\n"
     ]
    }
   ],
   "source": [
    "def my_reversed(lst):\n",
    "    reversed_lst = []\n",
    "    for index in range(my_len(lst)):\n",
    "        index += 1\n",
    "        index *= -1\n",
    "        num = lst[index]\n",
    "        reversed_lst += [num]\n",
    "    return reversed_lst\n",
    "print(my_reversed(lst))"
   ]
  },
  {
   "cell_type": "code",
   "execution_count": null,
   "metadata": {},
   "outputs": [],
   "source": []
  }
 ],
 "metadata": {
  "kernelspec": {
   "display_name": "Python 3",
   "language": "python",
   "name": "python3"
  },
  "language_info": {
   "codemirror_mode": {
    "name": "ipython",
    "version": 3
   },
   "file_extension": ".py",
   "mimetype": "text/x-python",
   "name": "python",
   "nbconvert_exporter": "python",
   "pygments_lexer": "ipython3",
   "version": "3.9.13"
  }
 },
 "nbformat": 4,
 "nbformat_minor": 2
}
