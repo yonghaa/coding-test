{
 "cells": [
  {
   "cell_type": "code",
   "execution_count": 1,
   "metadata": {},
   "outputs": [],
   "source": [
    "# boj : 백준 온라인 저지를 말합니다\n",
    "# 분해합"
   ]
  },
  {
   "cell_type": "code",
   "execution_count": 6,
   "metadata": {},
   "outputs": [],
   "source": [
    "n = int(input())\n",
    "# 245 + 2 + 4 + 5\n",
    "# 어떤 숫자가 주어졌을 때 그것의 분해합을 구하는 기능"
   ]
  },
  {
   "cell_type": "code",
   "execution_count": 7,
   "metadata": {},
   "outputs": [],
   "source": [
    "def div_sum(n):\n",
    "    result = n\n",
    "    for num in str(n):\n",
    "        result += int(num)\n",
    "    # print(result)\n",
    "    return result"
   ]
  },
  {
   "cell_type": "code",
   "execution_count": 8,
   "metadata": {},
   "outputs": [
    {
     "name": "stdout",
     "output_type": "stream",
     "text": [
      "256\n",
      "235\n"
     ]
    }
   ],
   "source": [
    "print(div_sum(245))\n",
    "flag = '실패'\n",
    "# is_succees\n",
    "\n",
    "for num in range(n):\n",
    "    if div_sum(num) == n:\n",
    "        print(num) # 정답이야\n",
    "        flag = '성공'\n",
    "        break\n",
    "else:\n",
    "    print(0)\n",
    "if flag == '실패':\n",
    "    print(0)"
   ]
  },
  {
   "cell_type": "code",
   "execution_count": null,
   "metadata": {},
   "outputs": [],
   "source": []
  }
 ],
 "metadata": {
  "kernelspec": {
   "display_name": "Python 3",
   "language": "python",
   "name": "python3"
  },
  "language_info": {
   "codemirror_mode": {
    "name": "ipython",
    "version": 3
   },
   "file_extension": ".py",
   "mimetype": "text/x-python",
   "name": "python",
   "nbconvert_exporter": "python",
   "pygments_lexer": "ipython3",
   "version": "3.9.13"
  }
 },
 "nbformat": 4,
 "nbformat_minor": 2
}
