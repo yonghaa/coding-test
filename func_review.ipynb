{
 "cells": [
  {
   "cell_type": "code",
   "execution_count": 10,
   "metadata": {},
   "outputs": [],
   "source": [
    "# x에다가 1을 더해줍니다.\n",
    "# 그녀석을 우리에게 보여줍니다.\n",
    "def add_1_and_print(x):\n",
    "    print(x+1)\n"
   ]
  },
  {
   "cell_type": "code",
   "execution_count": 11,
   "metadata": {},
   "outputs": [],
   "source": [
    "# x에다가 1을 더해줍니다.\n",
    "# 그녀석을 우리에게 반환해줍니다. (사용할 수 있도록 해준다)\n",
    "def add_2(x):\n",
    "    return x+2"
   ]
  },
  {
   "cell_type": "code",
   "execution_count": 12,
   "metadata": {},
   "outputs": [
    {
     "name": "stdout",
     "output_type": "stream",
     "text": [
      "11\n"
     ]
    }
   ],
   "source": [
    "y = add_1_and_print(10)\n",
    "z = add_2(10)       #변수로 지정해줬을 뿐인데 왜 11이 출력되는가?"
   ]
  },
  {
   "cell_type": "code",
   "execution_count": 13,
   "metadata": {},
   "outputs": [
    {
     "name": "stdout",
     "output_type": "stream",
     "text": [
      "None 12\n"
     ]
    }
   ],
   "source": [
    "print(y, z) # 리턴 반환된 z만 출력되서 12인가?"
   ]
  },
  {
   "cell_type": "code",
   "execution_count": null,
   "metadata": {},
   "outputs": [],
   "source": [
    "# print의 경우, 개발할 때 우리가 값을 확인하기 위해서\n",
    "# 또는 알고리즘 문제에서 '출력하시오' 라고 되어있을 때\n",
    "# 등등 . . . 만 사용."
   ]
  }
 ],
 "metadata": {
  "kernelspec": {
   "display_name": "Python 3",
   "language": "python",
   "name": "python3"
  },
  "language_info": {
   "codemirror_mode": {
    "name": "ipython",
    "version": 3
   },
   "file_extension": ".py",
   "mimetype": "text/x-python",
   "name": "python",
   "nbconvert_exporter": "python",
   "pygments_lexer": "ipython3",
   "version": "3.9.13"
  }
 },
 "nbformat": 4,
 "nbformat_minor": 2
}
