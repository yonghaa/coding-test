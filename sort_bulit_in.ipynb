{
 "cells": [
  {
   "cell_type": "code",
   "execution_count": 1,
   "metadata": {},
   "outputs": [
    {
     "name": "stdout",
     "output_type": "stream",
     "text": [
      "[[150, 50], [170, 60], [180, 40]]\n"
     ]
    }
   ],
   "source": [
    "# 정렬\n",
    "# 메서드 .sort() => 반환값이 존재하지 않음.\n",
    "# 앞에 나와있는 매개체로서의 list가 정렬이 된다.\n",
    "# 즉, 자기 자신이 정렬이 된다.\n",
    "# lst = [1, 11, 5, 4, 8, 13, 20, 2]\n",
    "# sorted_lst = lst.sort()\n",
    "# print(lst)\n",
    "# print(sorted_lst)\n",
    "\n",
    "# 함수 sorted() => 반환값이 존재합니다.\n",
    "# 즉, 원본 리스트는 보존한 채 새로운 리스트가 생성됩니다.\n",
    "# lst = [1, 11, 5, 4, 8, 13, 20, 2]\n",
    "# sorted_lst = sorted(lst)\n",
    "# print(lst)\n",
    "# print(sorted_lst)\n",
    "\n",
    "# (키, 몸무게)의 data들이 있을 때,\n",
    "# 1. 키 순으로 정렬\n",
    "# 2. 몸무게 순으로 정렬\n",
    "data = [[170, 60], [180, 40], [150, 50]]\n",
    "\n",
    "data.sort()\n",
    "print(data)"
   ]
  },
  {
   "cell_type": "code",
   "execution_count": 7,
   "metadata": {},
   "outputs": [
    {
     "name": "stdout",
     "output_type": "stream",
     "text": [
      "[[180, 40], [150, 50], [170, 60]]\n"
     ]
    }
   ],
   "source": [
    "def order(el): # el : [a,b] 형태의 데이터입니다.\n",
    "    return el[1]\n",
    "    # return el[0] ** 2 // el[1] # 가상의 bmi\n",
    "\n",
    "# data.sort(key=func)\n",
    "data.sort(key=order)\n",
    "# data.sort(key= lambda x : x[1])\n",
    "print(data)"
   ]
  },
  {
   "cell_type": "code",
   "execution_count": null,
   "metadata": {},
   "outputs": [],
   "source": []
  }
 ],
 "metadata": {
  "kernelspec": {
   "display_name": "Python 3",
   "language": "python",
   "name": "python3"
  },
  "language_info": {
   "codemirror_mode": {
    "name": "ipython",
    "version": 3
   },
   "file_extension": ".py",
   "mimetype": "text/x-python",
   "name": "python",
   "nbconvert_exporter": "python",
   "pygments_lexer": "ipython3",
   "version": "3.9.13"
  }
 },
 "nbformat": 4,
 "nbformat_minor": 2
}
