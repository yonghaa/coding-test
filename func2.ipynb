{
 "cells": [
  {
   "cell_type": "code",
   "execution_count": 4,
   "metadata": {},
   "outputs": [
    {
     "name": "stdout",
     "output_type": "stream",
     "text": [
      "3\n",
      "[1, 2, 3]\n",
      "[100, 2, 3]\n",
      "1\n",
      "[100, 2, 3]\n"
     ]
    }
   ],
   "source": [
    "# python function scope\n",
    "a = 1\n",
    "lst = [1, 2, 3]\n",
    "\n",
    "def func():\n",
    "    a = 3\n",
    "    print(a)\n",
    "    print(lst)\n",
    "    lst[0] = 100\n",
    "    # lst = [100, 1, 2]\n",
    "    print(lst)\n",
    "\n",
    "func()\n",
    "#print(b)\n",
    "print(a)\n",
    "print(lst)"
   ]
  },
  {
   "cell_type": "code",
   "execution_count": null,
   "metadata": {},
   "outputs": [],
   "source": []
  }
 ],
 "metadata": {
  "kernelspec": {
   "display_name": "Python 3",
   "language": "python",
   "name": "python3"
  },
  "language_info": {
   "codemirror_mode": {
    "name": "ipython",
    "version": 3
   },
   "file_extension": ".py",
   "mimetype": "text/x-python",
   "name": "python",
   "nbconvert_exporter": "python",
   "pygments_lexer": "ipython3",
   "version": "3.9.13"
  }
 },
 "nbformat": 4,
 "nbformat_minor": 2
}
