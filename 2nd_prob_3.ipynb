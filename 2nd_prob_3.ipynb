{
 "cells": [
  {
   "cell_type": "code",
   "execution_count": 1,
   "metadata": {},
   "outputs": [],
   "source": [
    "# 3번\n",
    "# 0 2 6\n",
    "# 12 20 30\n",
    "# 42 56 72\n"
   ]
  },
  {
   "cell_type": "code",
   "execution_count": 2,
   "metadata": {},
   "outputs": [
    {
     "name": "stdout",
     "output_type": "stream",
     "text": [
      "[[0, 2, 6], [12, 20, 30], [42, 56, 72]]\n"
     ]
    }
   ],
   "source": [
    "n = 3\n",
    "mat = [[0]*n for _ in range(n)]\n",
    "\n",
    "num = 0\n",
    "for i in range(n):\n",
    "    for j in range(n):\n",
    "        mat[i][j] = num * (num+1)\n",
    "        num += 1\n",
    "print(mat)"
   ]
  },
  {
   "cell_type": "code",
   "execution_count": null,
   "metadata": {},
   "outputs": [],
   "source": []
  }
 ],
 "metadata": {
  "kernelspec": {
   "display_name": "Python 3",
   "language": "python",
   "name": "python3"
  },
  "language_info": {
   "codemirror_mode": {
    "name": "ipython",
    "version": 3
   },
   "file_extension": ".py",
   "mimetype": "text/x-python",
   "name": "python",
   "nbconvert_exporter": "python",
   "pygments_lexer": "ipython3",
   "version": "3.9.13"
  }
 },
 "nbformat": 4,
 "nbformat_minor": 2
}
