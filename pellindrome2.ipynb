{
 "cells": [
  {
   "cell_type": "code",
   "execution_count": 1,
   "metadata": {},
   "outputs": [],
   "source": [
    "s = '123421'\n",
    "# s = '12321'"
   ]
  },
  {
   "cell_type": "code",
   "execution_count": 2,
   "metadata": {},
   "outputs": [
    {
     "name": "stdout",
     "output_type": "stream",
     "text": [
      "no\n"
     ]
    }
   ],
   "source": [
    "is_pellindrome = True\n",
    "for index in range(len(s)//2):\n",
    "    # index     compare_index\n",
    "    # 0       -1     -(0 + 1)\n",
    "    # 1       -2     -(1 + 1)\n",
    "    # 3       -3     -(2 + 1)\n",
    "    compare_index = -(index + 1)\n",
    "    if s[index] != s[compare_index]:\n",
    "        is_pellindrome = False\n",
    "        break\n",
    "\n",
    "if is_pellindrome:\n",
    "    print('yes')\n",
    "else:\n",
    "    print('no')"
   ]
  },
  {
   "cell_type": "code",
   "execution_count": null,
   "metadata": {},
   "outputs": [],
   "source": []
  }
 ],
 "metadata": {
  "kernelspec": {
   "display_name": "Python 3",
   "language": "python",
   "name": "python3"
  },
  "language_info": {
   "codemirror_mode": {
    "name": "ipython",
    "version": 3
   },
   "file_extension": ".py",
   "mimetype": "text/x-python",
   "name": "python",
   "nbconvert_exporter": "python",
   "pygments_lexer": "ipython3",
   "version": "3.9.13"
  }
 },
 "nbformat": 4,
 "nbformat_minor": 2
}
