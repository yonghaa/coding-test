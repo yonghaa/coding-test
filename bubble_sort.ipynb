{
 "cells": [
  {
   "cell_type": "code",
   "execution_count": 1,
   "metadata": {},
   "outputs": [],
   "source": [
    "# lst = [1, 3, 2, 6, 8, 7, 4]\n",
    "lst = [8, 5, 1, 4, 3, 6, 0]"
   ]
  },
  {
   "cell_type": "code",
   "execution_count": 2,
   "metadata": {},
   "outputs": [],
   "source": [
    "# 0번째, 1번째의 값을 swap 하는 방법\n",
    "# lst[0], lst[1] = lst[1], lst[0]\n",
    "# print(lst)"
   ]
  },
  {
   "cell_type": "code",
   "execution_count": 3,
   "metadata": {},
   "outputs": [],
   "source": [
    "# swap을 통해 가장 큰 값을 가장 오른쪽에 두자.\n",
    "# 힌트 : \"상태\", i와 i+1을 비교"
   ]
  },
  {
   "cell_type": "code",
   "execution_count": 4,
   "metadata": {},
   "outputs": [
    {
     "name": "stdout",
     "output_type": "stream",
     "text": [
      "[0, 1, 3, 4, 5, 6, 8]\n"
     ]
    }
   ],
   "source": [
    "for max_index in range(len(lst) -1, 0, -1):\n",
    "    # for i in range(len(lst)-1):\n",
    "    for i in range(max_index):\n",
    "        if lst[i] > lst[i+1]:\n",
    "            lst[i], lst[i+1] = lst[i+1], lst[i]\n",
    "\n",
    "print(lst)"
   ]
  },
  {
   "cell_type": "code",
   "execution_count": 5,
   "metadata": {},
   "outputs": [],
   "source": [
    "# for num in range(len(lst)-1, 0, -1):\n",
    "#     num = len(lst)-1\n",
    "#     num = len(lst)-2\n",
    "#     num = len(lst)-3\n",
    "#     len(lst) - 1"
   ]
  },
  {
   "cell_type": "code",
   "execution_count": 6,
   "metadata": {},
   "outputs": [
    {
     "name": "stdout",
     "output_type": "stream",
     "text": [
      "[0, 1, 3, 4, 5, 6, 8]\n"
     ]
    }
   ],
   "source": [
    "for max_index in range(len(lst) -1, 0, -1):\n",
    "    # for i in range(len(lst)-1):\n",
    "    for i in range(max_index):\n",
    "        if lst[i] > lst[i+1]:\n",
    "            lst[i], lst[i+1] = lst[i+1], lst[i]\n",
    "\n",
    "print(lst)"
   ]
  },
  {
   "cell_type": "code",
   "execution_count": null,
   "metadata": {},
   "outputs": [],
   "source": []
  }
 ],
 "metadata": {
  "kernelspec": {
   "display_name": "Python 3",
   "language": "python",
   "name": "python3"
  },
  "language_info": {
   "codemirror_mode": {
    "name": "ipython",
    "version": 3
   },
   "file_extension": ".py",
   "mimetype": "text/x-python",
   "name": "python",
   "nbconvert_exporter": "python",
   "pygments_lexer": "ipython3",
   "version": "3.9.13"
  }
 },
 "nbformat": 4,
 "nbformat_minor": 2
}
