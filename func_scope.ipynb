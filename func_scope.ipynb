{
 "cells": [
  {
   "cell_type": "code",
   "execution_count": 3,
   "metadata": {},
   "outputs": [
    {
     "name": "stdout",
     "output_type": "stream",
     "text": [
      "1\n",
      "[1, 2, 3]\n",
      "\n"
     ]
    }
   ],
   "source": [
    "# function scope\n",
    "a = 2\n",
    "a = 3\n",
    "a = 1\n",
    "lst = [1, 2, 3]\n",
    "print(a)\n",
    "print(lst)\n",
    "print()"
   ]
  },
  {
   "cell_type": "code",
   "execution_count": 10,
   "metadata": {},
   "outputs": [
    {
     "name": "stdout",
     "output_type": "stream",
     "text": [
      "3\n",
      "[100, 2, 3]\n",
      "\n",
      "1\n",
      "[1, 2, 3]\n"
     ]
    }
   ],
   "source": [
    "def func():\n",
    "    a = 3\n",
    "    #lst[0] = 100\n",
    "    lst = [100, 2, 3]\n",
    "    print(a)\n",
    "    print(lst)\n",
    "func()\n",
    "print()\n",
    "print(a)\n",
    "print(lst)"
   ]
  },
  {
   "cell_type": "code",
   "execution_count": null,
   "metadata": {},
   "outputs": [],
   "source": []
  }
 ],
 "metadata": {
  "kernelspec": {
   "display_name": "Python 3",
   "language": "python",
   "name": "python3"
  },
  "language_info": {
   "codemirror_mode": {
    "name": "ipython",
    "version": 3
   },
   "file_extension": ".py",
   "mimetype": "text/x-python",
   "name": "python",
   "nbconvert_exporter": "python",
   "pygments_lexer": "ipython3",
   "version": "3.9.13"
  }
 },
 "nbformat": 4,
 "nbformat_minor": 2
}
