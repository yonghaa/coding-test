{
 "cells": [
  {
   "cell_type": "code",
   "execution_count": 4,
   "metadata": {},
   "outputs": [
    {
     "name": "stdout",
     "output_type": "stream",
     "text": [
      "3 1\n"
     ]
    }
   ],
   "source": [
    "a = 1\n",
    "b = a\n",
    "a = 3\n",
    "print(a, b) #여기서a는 가장 마지막 데이터 a=3으로 출력 b는 b까지의 데이터a=1인 1로 출력"
   ]
  },
  {
   "cell_type": "code",
   "execution_count": 6,
   "metadata": {},
   "outputs": [
    {
     "name": "stdout",
     "output_type": "stream",
     "text": [
      "[100, 2, 3] [100, 2, 3]\n"
     ]
    }
   ],
   "source": [
    "lst1 = [1, 2, 3]\n",
    "lst2 = lst1\n",
    "lst1[0] = 100\n",
    "print(lst1, lst2) #여기서도 위와같다면 lst1은[100, 2, 3] lst2는[1, 2, 3] 으로 출력될줄 알았으나 [100, 2, 3] [100, 2, 3]으로 출력됨\n",
    "# lst2 라는것은 lst1의 원소의 값만 가져오고 싶다.\n",
    "# lst2 = []\n",
    "# for i in lst1:\n",
    "#     lst2.append(i)"
   ]
  },
  {
   "cell_type": "code",
   "execution_count": 7,
   "metadata": {},
   "outputs": [
    {
     "name": "stdout",
     "output_type": "stream",
     "text": [
      "[100, 2, 3] [1, 2, 3]\n"
     ]
    }
   ],
   "source": [
    "# 얕은 복사, 1차원 리스트 일때만 가능.\n",
    "lst1 = [1, 2, 3]\n",
    "lst2 = lst1[:]\n",
    "lst1[0] = 100\n",
    "print(lst1, lst2) #???"
   ]
  },
  {
   "cell_type": "code",
   "execution_count": 8,
   "metadata": {},
   "outputs": [
    {
     "name": "stdout",
     "output_type": "stream",
     "text": [
      "[[100, 2], [3, 4]]\n",
      "[[100, 2], [3, 4]]\n"
     ]
    }
   ],
   "source": [
    "# 2차원일때는 불가능합니다.\n",
    "mat1 = [[1,2], [3, 4]]\n",
    "mat2 = mat1[:]\n",
    "mat1[0][0] = 100\n",
    "print(mat1)\n",
    "print(mat2)"
   ]
  },
  {
   "cell_type": "code",
   "execution_count": null,
   "metadata": {},
   "outputs": [],
   "source": [
    "from copy import deepcopy\n",
    "# 얕은 카피를 recursive하게 하면 됩니다.\n",
    "# 재귀은 어떠한 것을 정의할 때 자기 자신을 참조하는 것을 뜻한다"
   ]
  }
 ],
 "metadata": {
  "kernelspec": {
   "display_name": "Python 3",
   "language": "python",
   "name": "python3"
  },
  "language_info": {
   "codemirror_mode": {
    "name": "ipython",
    "version": 3
   },
   "file_extension": ".py",
   "mimetype": "text/x-python",
   "name": "python",
   "nbconvert_exporter": "python",
   "pygments_lexer": "ipython3",
   "version": "3.9.13"
  }
 },
 "nbformat": 4,
 "nbformat_minor": 2
}
