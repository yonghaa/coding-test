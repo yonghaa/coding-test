{
 "cells": [
  {
   "cell_type": "code",
   "execution_count": 1,
   "metadata": {},
   "outputs": [
    {
     "name": "stdout",
     "output_type": "stream",
     "text": [
      "[[1, 3]]\n"
     ]
    }
   ],
   "source": [
    "# 입력\n",
    "n, m = map(int, input().split())\n",
    "mat = [list(map(int, input().split())) for _ in range(n)]\n",
    "print(mat)"
   ]
  },
  {
   "cell_type": "code",
   "execution_count": 2,
   "metadata": {},
   "outputs": [
    {
     "name": "stdout",
     "output_type": "stream",
     "text": [
      "0\n"
     ]
    }
   ],
   "source": [
    "di = [0, 0, 1, -1]\n",
    "dj = [1, -1, 0, 0]\n",
    "cnt = 0\n",
    "# 모든 el에 대해서\n",
    "for i in range(n):\n",
    "    for j in range(m):\n",
    "        # 1의 개수를 세겠어.\n",
    "        if mat[i][j] == 1:\n",
    "            # 2와 근접한 경우에.\n",
    "            for d in range(4):\n",
    "                ni = i + di[d]\n",
    "                nj = j + dj[d]\n",
    "                # ni, nj를 방문할 수 있니?\n",
    "                # 방문할 수 있는 경우 & ni, nj가 2인 경우\n",
    "                if 0 <= ni < n and 0 <= nj < m and mat[ni][nj] == 2:\n",
    "                    cnt += 1\n",
    "                    # 1 옆에 2가 중복으로 있는 경우 방지\n",
    "                    break\n",
    "                # 방문할 수 없는 경우 skip해. skip되지 않았으면 ni,nj가 2인 경우\n",
    "                # if 0 > ni or n <= ni or 0 > nj or m <= nj:\n",
    "                #     continue\n",
    "                # if mat[ni][nj] == 2:\n",
    "                #     cnt += 1\n",
    "                #     # 1 옆에 2가 중복으로 있는 경우 방지\n",
    "                #     break\n",
    "print(cnt)"
   ]
  },
  {
   "cell_type": "code",
   "execution_count": null,
   "metadata": {},
   "outputs": [],
   "source": []
  }
 ],
 "metadata": {
  "kernelspec": {
   "display_name": "Python 3",
   "language": "python",
   "name": "python3"
  },
  "language_info": {
   "codemirror_mode": {
    "name": "ipython",
    "version": 3
   },
   "file_extension": ".py",
   "mimetype": "text/x-python",
   "name": "python",
   "nbconvert_exporter": "python",
   "pygments_lexer": "ipython3",
   "version": "3.9.13"
  }
 },
 "nbformat": 4,
 "nbformat_minor": 2
}
